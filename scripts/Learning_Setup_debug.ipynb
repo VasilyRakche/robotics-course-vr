{
 "cells": [
  {
   "cell_type": "code",
   "execution_count": 1,
   "id": "f00839c5",
   "metadata": {},
   "outputs": [
    {
     "name": "stdout",
     "output_type": "stream",
     "text": [
      "**ry-c++-log** ry.cpp:init_LogToPythonConsole:34(0) initializing ry log callback\n",
      "\n",
      "**ry-c++-log** util.cpp:initCmdLine:545(1) ** cmd line arguments: 'rai-pybind -python '\n",
      "** INFO:ry.cpp:init_LogToPythonConsole:34(0) initializing ry log callback\n",
      "\n",
      "**ry-c++-log** util.cpp:initCmdLine:549(1) ** run path: '/home/vasko/Documents/TUB3/AI_Robotics/robotics-course-prev/course3-Simulation'** INFO:util.cpp:initCmdLine:545(1) ** cmd line arguments: 'rai-pybind -python '\n",
      "\n",
      "\n",
      "**ry-c++-log** graph.cpp:initParameters:1379(1) ** parsed parameters:\n",
      "{python}\n",
      "\n",
      "** INFO:util.cpp:initCmdLine:549(1) ** run path: '/home/vasko/Documents/TUB3/AI_Robotics/robotics-course-prev/course3-Simulation'\n",
      "\n",
      "** INFO:graph.cpp:initParameters:1379(1) ** parsed parameters:\n",
      "{python}\n",
      "\n"
     ]
    }
   ],
   "source": [
    "import sys\n",
    "import os\n",
    "file_path = os.path.dirname(os.path.realpath(__file__))\n",
    "sys.path.append(os.path.join(file_path,'../build'))\n",
    "import numpy as np\n",
    "import libry as ry\n",
    "import time\n",
    "import cv2 as cv"
   ]
  },
  {
   "cell_type": "code",
   "execution_count": 2,
   "metadata": {},
   "outputs": [],
   "source": [
    "import numpy as np\n",
    "import matplotlib.pyplot as plt\n",
    "\n",
    "# Fixing random state for reproducibility\n",
    "np.random.seed(19680801)\n",
    "\n",
    "# fake up some data\n",
    "spread = np.random.rand(50) * 100\n",
    "center = np.ones(25) * 50\n",
    "flier_high = np.random.rand(10) * 100 + 100\n",
    "flier_low = np.random.rand(10) * -100\n",
    "data = np.concatenate((spread, center, flier_high, flier_low))"
   ]
  },
  {
   "cell_type": "code",
   "execution_count": 10,
   "metadata": {},
   "outputs": [],
   "source": [
    "hey = dict()\n",
    "hey[\"data\"]=(np.arange(10),np.arange(20),np.arange(30))\n",
    "\n"
   ]
  },
  {
   "cell_type": "code",
   "execution_count": 14,
   "metadata": {},
   "outputs": [
    {
     "data": {
      "text/plain": [
       "{'whiskers': [<matplotlib.lines.Line2D at 0x7fef281160a0>,\n",
       "  <matplotlib.lines.Line2D at 0x7fef28116400>,\n",
       "  <matplotlib.lines.Line2D at 0x7fef28122880>,\n",
       "  <matplotlib.lines.Line2D at 0x7fef28122be0>],\n",
       " 'caps': [<matplotlib.lines.Line2D at 0x7fef28116760>,\n",
       "  <matplotlib.lines.Line2D at 0x7fef28116ac0>,\n",
       "  <matplotlib.lines.Line2D at 0x7fef28122f40>,\n",
       "  <matplotlib.lines.Line2D at 0x7fef2812c2e0>],\n",
       " 'boxes': [<matplotlib.lines.Line2D at 0x7fef28189d00>,\n",
       "  <matplotlib.lines.Line2D at 0x7fef28122520>],\n",
       " 'medians': [<matplotlib.lines.Line2D at 0x7fef28116e20>,\n",
       "  <matplotlib.lines.Line2D at 0x7fef2812c640>],\n",
       " 'fliers': [<matplotlib.lines.Line2D at 0x7fef281221c0>,\n",
       "  <matplotlib.lines.Line2D at 0x7fef2812c9a0>],\n",
       " 'means': []}"
      ]
     },
     "execution_count": 14,
     "metadata": {},
     "output_type": "execute_result"
    },
    {
     "data": {
      "image/png": "[encoded data removed]",
      "text/plain": [
       "<Figure size 432x288 with 1 Axes>"
      ]
     },
     "metadata": {
      "needs_background": "light"
     },
     "output_type": "display_data"
    }
   ],
   "source": [
    "fig, ax = plt.subplots()\n",
    "ax.set_title('Comparison of sucesses for 10 batches of 20 experiments')\n",
    "ax.boxplot([np.arange(2),np.arange(2)], labels=[\"hey\", \"two\"])"
   ]
  },
  {
   "cell_type": "code",
   "execution_count": 15,
   "metadata": {},
   "outputs": [
    {
     "data": {
      "text/plain": [
       "{'whiskers': [<matplotlib.lines.Line2D at 0x7fef280fd430>,\n",
       "  <matplotlib.lines.Line2D at 0x7fef280fd790>],\n",
       " 'caps': [<matplotlib.lines.Line2D at 0x7fef280fdaf0>,\n",
       "  <matplotlib.lines.Line2D at 0x7fef280fde50>],\n",
       " 'boxes': [<matplotlib.lines.Line2D at 0x7fef280fd0d0>],\n",
       " 'medians': [<matplotlib.lines.Line2D at 0x7fef281081f0>],\n",
       " 'fliers': [<matplotlib.lines.Line2D at 0x7fef28108550>],\n",
       " 'means': []}"
      ]
     },
     "execution_count": 15,
     "metadata": {},
     "output_type": "execute_result"
    },
    {
     "data": {
      "image/png": "[encoded data removed]",
      "text/plain": [
       "<Figure size 432x288 with 1 Axes>"
      ]
     },
     "metadata": {
      "needs_background": "light"
     },
     "output_type": "display_data"
    }
   ],
   "source": [
    "fig1, ax1 = plt.subplots()\n",
    "ax1.set_title('Basic Plot')\n",
    "ax1.boxplot(data)"
   ]
  },
  {
   "cell_type": "code",
   "execution_count": 1,
   "id": "6c9d9d01",
   "metadata": {
    "scrolled": true
   },
   "outputs": [
    {
     "ename": "NameError",
     "evalue": "name 'ry' is not defined",
     "output_type": "error",
     "traceback": [
      "\u001b[0;31m---------------------------------------------------------------------------\u001b[0m",
      "\u001b[0;31mNameError\u001b[0m                                 Traceback (most recent call last)",
      "Input \u001b[0;32mIn [1]\u001b[0m, in \u001b[0;36m<cell line: 3>\u001b[0;34m()\u001b[0m\n\u001b[1;32m      1\u001b[0m world_configuration \u001b[38;5;241m=\u001b[39m \u001b[38;5;124m\"\u001b[39m\u001b[38;5;124m../scenarios/pushSimWorldComplete.g\u001b[39m\u001b[38;5;124m\"\u001b[39m\n\u001b[0;32m----> 3\u001b[0m C \u001b[38;5;241m=\u001b[39m \u001b[43mry\u001b[49m\u001b[38;5;241m.\u001b[39mConfig()\n\u001b[1;32m      4\u001b[0m C\u001b[38;5;241m.\u001b[39maddFile(world_configuration)\n\u001b[1;32m      5\u001b[0m C\u001b[38;5;241m.\u001b[39mgetFrame(\u001b[38;5;124m\"\u001b[39m\u001b[38;5;124mgrapper_base\u001b[39m\u001b[38;5;124m\"\u001b[39m)\u001b[38;5;241m.\u001b[39msetContact(\u001b[38;5;241m1\u001b[39m)\n",
      "\u001b[0;31mNameError\u001b[0m: name 'ry' is not defined"
     ]
    }
   ],
   "source": [
    "world_configuration = \"../scenarios/pushSimWorldComplete.g\"\n",
    "\n",
    "C = ry.Config()\n",
    "C.addFile(world_configuration)\n",
    "C.getFrame(\"grapper_base\").setContact(1)\n",
    "C.addFrame(\"obj0\")\n",
    "C.getFrame(\"obj0\").setColor([1.,0,0])\n",
    "C.getFrame(\"obj0\").setShape(ry.ST.sphere, [.03])\n",
    "# C.getFrame(\"obj0\").setPosition([0., .2, 1.])\n",
    "C.getFrame(\"obj0\").setPosition([0., .2, .7])\n",
    "\n",
    "# C.getFrame(\"obj0\").setContact(1)\n",
    "\n",
    "box = C.getFrame(\"box\")\n",
    "box_start_state = box.getPosition()\n",
    "box_t = C.getFrame(\"box_t\")\n",
    "ball = C.getFrame(\"ball\")\n",
    "# x_start, y_start = get_xy_position_diff(box_t, box)\n",
    "# r_start = (x_start**2 + y_start**2)**.5 \n",
    "# print(r_start)\n",
    "game_over_threshold = 1.\n",
    "reward_threshold = .1\n",
    "score = 0\n",
    "state = 3*[0]\n",
    "\n",
    "S = C.simulation(ry.SimulatorEngine.bullet, True)"
   ]
  },
  {
   "cell_type": "code",
   "execution_count": 25,
   "id": "ccb3707f",
   "metadata": {},
   "outputs": [
    {
     "data": {
      "text/plain": [
       "array([-0.055])"
      ]
     },
     "execution_count": 25,
     "metadata": {},
     "output_type": "execute_result"
    }
   ],
   "source": [
    "y, J = C.evalFeature(ry.FS.distance, [\"panda_coll0\", \"box\"])\n",
    "y"
   ]
  },
  {
   "cell_type": "code",
   "execution_count": 11,
   "id": "3beedacc",
   "metadata": {},
   "outputs": [],
   "source": [
    "C.getFrame(\"obj0\").setPosition(np.array(box.getPosition())+np.array([0.12,0,0]))"
   ]
  },
  {
   "cell_type": "code",
   "execution_count": 24,
   "id": "8aba5a0d",
   "metadata": {},
   "outputs": [],
   "source": [
    "box.setPosition(C.getFrame(\"panda_coll0\").getPosition() + np.array([0.28,0,0]))"
   ]
  },
  {
   "cell_type": "code",
   "execution_count": 17,
   "id": "f67679d1",
   "metadata": {},
   "outputs": [],
   "source": [
    "def solve_komo_neutral(komo):\n",
    "    # encode grasping\n",
    "    komo.addObjective([1.], \n",
    "                    ry.FS.positionRel, \n",
    "                    [\"gripperCenter\", \"world\"], \n",
    "                    ry.OT.eq, \n",
    "                    1e2,\n",
    "                    [0.,0.,1.5]);\n",
    "\n",
    "#     komo.addObjective([1.], \n",
    "#                     ry.FS.quaternionRel, \n",
    "#                     [\"grapper_base\", \"gripperCenter\"], \n",
    "#                     ry.OT.eq, \n",
    "#                     [1e2],\n",
    "#                     [.707,0,0,.707]);\n",
    "#     komo.addObjective([1.], \n",
    "#                     ry.FS.quaternionRel, \n",
    "#                     [\"grapper_base\", \"gripperCenter\"], \n",
    "#                     ry.OT.eq, \n",
    "#                     [1e2],\n",
    "#                     [1.,0,0,0]);\n",
    "\n",
    "    komo.optimize()\n",
    "#     IK.getReport()\n",
    "    return komo.getPath_qOrg() "
   ]
  },
  {
   "cell_type": "code",
   "execution_count": 18,
   "id": "d5e0f646",
   "metadata": {},
   "outputs": [],
   "source": [
    "def solve_komo_grasping(komo):\n",
    "    # encode grasping\n",
    "    komo.addObjective([1.], \n",
    "                    ry.FS.positionRel, \n",
    "#                     [\"grapper_base\", \"gripperCenter\"], \n",
    "                    [\"obj0\", \"gripperCenter\"],   \n",
    "                    ry.OT.eq, \n",
    "                    1e2,\n",
    "                    [0.,0.,.0]);\n",
    "\n",
    "    komo.addObjective([1.], \n",
    "                    ry.FS.quaternionRel, \n",
    "#                     [\"grapper_base\", \"gripperCenter\"], \n",
    "                    [\"obj0\", \"gripperCenter\"],  \n",
    "                    ry.OT.eq, \n",
    "                    [1e2],\n",
    "                    [.707,0,0,.707]);\n",
    "#     komo.addObjective([1.], \n",
    "#                     ry.FS.quaternionRel, \n",
    "#                     [\"grapper_base\", \"gripperCenter\"], \n",
    "#                     ry.OT.eq, \n",
    "#                     [1e2],\n",
    "#                     [1.,0,0,0]);\n",
    "\n",
    "    komo.optimize()\n",
    "#     IK.getReport()\n",
    "    return komo.getPath_qOrg() "
   ]
  },
  {
   "cell_type": "code",
   "execution_count": 36,
   "id": "bcfab8ca",
   "metadata": {},
   "outputs": [],
   "source": [
    "def solve_grasping_ball(komo):\n",
    "\n",
    "    # encode grasping\n",
    "    komo.addObjective([1.], \n",
    "                    ry.FS.positionRel, \n",
    "                    [\"ball\", \"gripperCenter\"], \n",
    "                    ry.OT.eq, \n",
    "                    1e2,\n",
    "                    [0.,0.,.0]);\n",
    "\n",
    "#     # encode hight tracking\n",
    "#     komo.addObjective([0.,.5], \n",
    "#                 ry.FS.positionDiff, \n",
    "#                 [\"ball\", \"gripperCenter\"], \n",
    "#                 ry.OT.eq, \n",
    "#                 1.2e2*np.array([[0,0,1]]),\n",
    "#                 [0.,0.,.0]);\n",
    "    \n",
    "    # add the pre-positon (TO BE ABOVE THE BALL and then go to the ball at the end)\n",
    "#     komo.addObjective([.8], \n",
    "#                 ry.FS.positionDiff, \n",
    "#                 [\"ball\", \"gripperCenter\"], \n",
    "#                 ry.OT.eq, \n",
    "#                 1.2e2*np.array([[0,0,1]]),\n",
    "#                 [0.,0.,.0]);\n",
    "    \n",
    "    \n",
    "#     komo.addObjective([0.,1.], \n",
    "#                     ry.FS.quaternionRel, \n",
    "#                     [\"ball\", \"gripperCenter\"], \n",
    "#                     ry.OT.eq, \n",
    "#                     [1e2],\n",
    "#                     [.579,.406,-.406,.579]);\n",
    "\n",
    "    komo.addObjective([1.], ry.FS.qItself, [], ry.OT.eq, [1e2], order=1)\n",
    "\n",
    "    komo.optimize()\n",
    "    \n",
    "    return\n"
   ]
  },
  {
   "cell_type": "code",
   "execution_count": 1,
   "id": "447f3a85",
   "metadata": {},
   "outputs": [],
   "source": [
    "def solve_place_ball(komo, position):\n",
    "\n",
    "    # encode grasping\n",
    "    komo.addObjective([1.], \n",
    "                    ry.FS.distance, \n",
    "                    [\"ball\", \"box\"], \n",
    "                    ry.OT.ineq, \n",
    "                    1e2,\n",
    "                    [0.]);\n",
    "\n",
    "    komo.addObjective([1.], \n",
    "                    ry.FS.positionRel, \n",
    "                    [\"ball\", \"world\"], \n",
    "                    ry.OT.eq, \n",
    "                    1e2,\n",
    "                    position);\n",
    "    \n",
    "    komo.addObjective([1.], ry.FS.qItself, [], ry.OT.eq, [1e2], order=1)\n",
    "\n",
    "    komo.optimize()\n",
    "    \n",
    "    return\n"
   ]
  },
  {
   "cell_type": "code",
   "execution_count": 48,
   "id": "5d85ffea",
   "metadata": {},
   "outputs": [],
   "source": [
    "final_move = 1\n",
    "box = C.getFrame(\"box\")\n",
    "box_t = C.getFrame(\"box_t\")\n",
    "\n",
    "start, direction = start_direction(box,np.nonzero(final_move)[0][0])"
   ]
  },
  {
   "cell_type": "code",
   "execution_count": 41,
   "id": "3bb0e37d",
   "metadata": {},
   "outputs": [],
   "source": [
    "tau = .01\n",
    "waypoints = 10\n",
    "horizon_seconds = .5\n"
   ]
  },
  {
   "cell_type": "code",
   "execution_count": 42,
   "id": "c49d4a19",
   "metadata": {},
   "outputs": [],
   "source": [
    "def executeSplineGrasping(path, t):\n",
    "    gripping = False  \n",
    "    S.setMoveto(path, t)\n",
    "    y=0\n",
    "    while S.getTimeToMove() > 0. or gripping:\n",
    "        time.sleep(tau)\n",
    "        \n",
    "        if gripping:\n",
    "            S.setMoveto(S.get_q(),tau, append=False)\n",
    "            \n",
    "        S.step([], tau, ry.ControlMode.spline)\n",
    "        C.setJointState(S.get_q()) \n",
    "        \n",
    "        y, J = C.evalFeature(ry.FS.positionDiff, [\"gripperCenter\", \"grapper_base\"])\n",
    "\n",
    "        if not gripping and np.linalg.norm(y) < .05:\n",
    "            return True\n",
    "            S.closeGripper(\"gripper\", speed=.5)\n",
    "            print(\"gripping\")\n",
    "            gripping = True\n",
    "\n",
    "        if gripping and S.getGripperWidth(\"gripper\") < 1e-3:\n",
    "            print(\"FAILED!\")\n",
    "            S.openGripper(\"gripper\", speed=1.)\n",
    "            gripping = False\n",
    "            break\n",
    "\n",
    "        if gripping and S.getGripperIsGrasping(\"gripper\"):\n",
    "            print(\"GRASPED!\")\n",
    "            grasped = True\n",
    "            C.attach(\"R_gripper\", \"object\")\n",
    "            break\n",
    "    print(np.linalg.norm(y))"
   ]
  },
  {
   "cell_type": "code",
   "execution_count": 43,
   "id": "5feb69fa",
   "metadata": {},
   "outputs": [],
   "source": [
    "def executeSplineNeutral(path, t):\n",
    "    gripping = False \n",
    "    S.setMoveto(path, t)\n",
    "    S.openGripper(\"gripper\", speed=1.)\n",
    "    while S.getTimeToMove() > 0.:\n",
    "        time.sleep(tau)\n",
    "        S.step([], tau, ry.ControlMode.spline)\n",
    "        C.setJointState(S.get_q()) "
   ]
  },
  {
   "cell_type": "code",
   "execution_count": 24,
   "id": "2a0cc8d6",
   "metadata": {},
   "outputs": [
    {
     "name": "stdout",
     "output_type": "stream",
     "text": [
      "** KOMO::run solver:sparse collisions:0 x-dim:70 T:10 k:2 phases:1 stepsPerPhase:10 tau:0.05  #timeSlices:12 #totalDOFs:70 #frames:756\n",
      "** optimization time:0.010625 (kin:0.000448 coll:0 feat:0.006011 newton: -47.3762) setJointStateCount:46\n",
      "   sos:80.5071 ineq:0 eq:0.0214349\n",
      "0.6230345327995617\n"
     ]
    }
   ],
   "source": [
    "komo = C.komo_path(1., waypoints, horizon_seconds, False)\n",
    "solve_komo_grasping(komo)\n",
    "komo.getReport()\n",
    "komo.view(False, \"motion\")\n",
    "# komo.view_play(True, 0.3)\n",
    "\n",
    "# send the motion with spline\n",
    "\n",
    "executeSplineGrasping(komo.getPath_qOrg(), 1)\n",
    "\n",
    "\n",
    "#grab manipulator sensor readings from the simulation\n",
    "q = S.get_q()\n",
    "\n",
    "C.setJointState(q); # set your robot model to match the real q"
   ]
  },
  {
   "cell_type": "code",
   "execution_count": null,
   "id": "f99523fd",
   "metadata": {},
   "outputs": [
    {
     "name": "stdout",
     "output_type": "stream",
     "text": [
      "** KOMO::run solver:sparse collisions:0 x-dim:70 T:10 k:2 phases:1 stepsPerPhase:10 tau:0.05  #timeSlices:12 #totalDOFs:70 #frames:756\n",
      "**ry-c++-log** pairCollision.cpp:libccd:287(0) WARNING: called MPR penetration for non intersecting meshes...\n",
      "\n"
     ]
    }
   ],
   "source": [
    "komo = C.komo_path(1., waypoints, horizon_seconds, False)\n",
    "solve_place_ball(komo, start)\n",
    "komo.getReport()\n",
    "komo.view(False, \"motion\")\n",
    "# komo.view_play(True, 0.3)\n",
    "\n",
    "# send the motion with spline\n",
    "\n",
    "executeSplineNeutral(komo.getPath_qOrg(), 1)\n",
    "\n",
    "\n",
    "#grab manipulator sensor readings from the simulation\n",
    "q = S.get_q()\n",
    "\n",
    "C.setJointState(q); # set your robot model to match the real q"
   ]
  },
  {
   "cell_type": "code",
   "execution_count": null,
   "id": "79fc76d6",
   "metadata": {},
   "outputs": [],
   "source": []
  },
  {
   "cell_type": "code",
   "execution_count": null,
   "id": "7cab5b23",
   "metadata": {},
   "outputs": [
    {
     "name": "stdout",
     "output_type": "stream",
     "text": [
      "gripping\n"
     ]
    }
   ],
   "source": [
    "# tau = .01\n",
    "# gripping = False\n",
    "# for t in range(1000):\n",
    "#     time.sleep(tau)\n",
    "\n",
    "# #     if gripping:\n",
    "# #         S.setMoveto(S.get_q(),tau, append=False)\n",
    "\n",
    "#     S.step([], tau, ry.ControlMode.none)\n",
    "#     C.setJointState(S.get_q()) \n",
    "\n",
    "#     y, J = C.evalFeature(ry.FS.positionDiff, [\"gripperCenter\", \"obj0\"])\n",
    "\n",
    "#     if not gripping and np.linalg.norm(y) < .05:\n",
    "#         S.closeGripper(\"gripper\", speed=.5)\n",
    "#         print(\"gripping\")\n",
    "#         gripping = True\n",
    "\n",
    "#     if gripping and S.getGripperWidth(\"gripper\") < 1e-3:\n",
    "#         print(\"FAILED!\")\n",
    "#         S.openGripper(\"gripper\", speed=1.)\n",
    "#         gripping = False\n",
    "#         break\n",
    "\n",
    "#     if gripping and S.getGripperIsGrasping(\"gripper\"):\n",
    "#         print(\"GRASPED!\")\n",
    "#         grasped = True\n",
    "#         C.attach(\"R_gripper\", \"object\")\n",
    "#         break"
   ]
  },
  {
   "cell_type": "code",
   "execution_count": 14,
   "id": "e39fabe4",
   "metadata": {},
   "outputs": [],
   "source": [
    "# q = S.get_q()\n",
    "# q[-1] = 0"
   ]
  },
  {
   "cell_type": "code",
   "execution_count": 25,
   "id": "ae37d2f5",
   "metadata": {},
   "outputs": [
    {
     "name": "stdout",
     "output_type": "stream",
     "text": [
      "FAILED!\n"
     ]
    }
   ],
   "source": [
    "tau = 0.01\n",
    "gripping = False\n",
    "for t in range(3000):\n",
    "    time.sleep(tau)\n",
    "\n",
    "    #grab sensor readings from the simulation\n",
    "    q = S.get_q()\n",
    "#     if t%10 == 0:\n",
    "#         [rgb, depth] = S.getImageAndDepth()  #we don't need images with 100Hz, rendering is slow\n",
    "\n",
    "#         contours, full_mask = red_obj_det(rgb)\n",
    "#         if (len(contours)!=0):\n",
    "#             mv_ball_contour = find_moving_ball(prev_contours, prev_full_mask, contours, full_mask)\n",
    "\n",
    "#             objectPosition = estimateBallPosition(depth, mv_ball_contour)\n",
    "#             prev_contours, prev_full_mask = contours, full_mask\n",
    "\n",
    "    # TOTAL CHEAT: grab the true position from the RealWorld\n",
    "#     objectPosition = RealWorld.frame(\"obj0\").getPosition();\n",
    "#     obj.setPosition(objectPosition) # set the model object to percept\n",
    "\n",
    "    C.setJointState(q); # set your robot model to match the real q\n",
    "\n",
    "    y, J = C.evalFeature(ry.FS.positionDiff, [\"gripperCenter\", \"obj0\"])\n",
    "\n",
    "#     qdot = np.linalg.inv(J.T@J + 1e-3*np.eye(q.shape[0])) @ J.T @ (-5*y)\n",
    "\n",
    "#         komo_next_state = solve_komo_IK_grasping()[0]\n",
    "\n",
    "\n",
    "#     C.setFrameState(komo_next_state)\n",
    "\n",
    "    qdot = 0*( C.getJointState() - q ) /  (  40*tau )\n",
    "\n",
    "    if not gripping and np.linalg.norm(y) < .03:\n",
    "        S.closeGripper(\"gripper\", speed=.5)\n",
    "        gripping = True\n",
    "\n",
    "    if gripping and S.getGripperWidth(\"gripper\") < 1e-3:\n",
    "        print(\"FAILED!\")\n",
    "        S.openGripper(\"gripper\", speed=1.)\n",
    "        gripping = False\n",
    "        break\n",
    "\n",
    "    if gripping and S.getGripperIsGrasping(\"gripper\"):\n",
    "        print(\"GRASPED!\")\n",
    "        grasped = True\n",
    "        break\n",
    "\n",
    "    S.step(qdot, tau, ry.ControlMode.velocity)"
   ]
  },
  {
   "cell_type": "code",
   "execution_count": null,
   "id": "af8d42a4",
   "metadata": {},
   "outputs": [],
   "source": [
    "# C = ry.Config()\n",
    "# ball.setPosition([2, 0.1, 0.7])\n",
    "# D = C.view();"
   ]
  },
  {
   "cell_type": "code",
   "execution_count": null,
   "id": "b55f3563",
   "metadata": {},
   "outputs": [],
   "source": [
    "# box.setPosition([0.8, 0.1, 0.75])"
   ]
  },
  {
   "cell_type": "code",
   "execution_count": null,
   "id": "632167e6",
   "metadata": {},
   "outputs": [],
   "source": [
    "# ball.setPosition([2, 0.1, 0.7])"
   ]
  },
  {
   "cell_type": "code",
   "execution_count": null,
   "id": "e1e534d0",
   "metadata": {},
   "outputs": [],
   "source": [
    "# S.step(np.zeros(q.shape), .01, ry.ControlMode.velocity)"
   ]
  },
  {
   "cell_type": "code",
   "execution_count": null,
   "id": "8d468efe",
   "metadata": {},
   "outputs": [],
   "source": [
    "# q = S.get_q()"
   ]
  },
  {
   "cell_type": "code",
   "execution_count": null,
   "id": "972f7cef",
   "metadata": {},
   "outputs": [],
   "source": [
    "# q.shape"
   ]
  },
  {
   "cell_type": "code",
   "execution_count": null,
   "id": "c3be998a",
   "metadata": {},
   "outputs": [],
   "source": [
    "\n",
    "# for t in range(100):    \n",
    "# #         gt_pos = ball.getPosition()\n",
    "\n",
    "    \n",
    "#     S.step(np.zeros(q.shape), tau, ry.ControlMode.velocity)\n",
    "#     time.sleep(tau)"
   ]
  },
  {
   "cell_type": "markdown",
   "id": "d164a148",
   "metadata": {},
   "source": [
    "### Euler Angles From quaternions\n",
    "https://stackoverflow.com/questions/57063595/how-to-obtain-the-angle-between-two-quaternions\n",
    "    "
   ]
  },
  {
   "cell_type": "code",
   "execution_count": 38,
   "id": "6ddd4695",
   "metadata": {},
   "outputs": [],
   "source": [
    "from pyquaternion import Quaternion\n",
    "import math\n",
    "import matplotlib.pyplot as plt"
   ]
  },
  {
   "cell_type": "code",
   "execution_count": null,
   "id": "2a723c75",
   "metadata": {},
   "outputs": [],
   "source": [
    "res = []\n",
    "for i in range(1000):\n",
    "    psi = 2*math.pi*np.random.rand()\n",
    "    R = np.array([[math.cos(psi), -math.sin(psi)],\n",
    "                [math.sin(psi), math.cos(psi)]])\n",
    "\n",
    "    ball_position_rel = np.array([.32 + np.random.rand()*.5, 0])\n",
    "    ball_position_rel = R.dot(ball_position_rel)\n",
    "    res += [ball_position_rel]\n",
    "\n",
    "res = np.array(res)\n",
    "\n",
    "plt.scatter(res[:,0],res[:,1])\n",
    "plt.show()"
   ]
  },
  {
   "cell_type": "code",
   "execution_count": null,
   "id": "16350c42",
   "metadata": {},
   "outputs": [],
   "source": []
  },
  {
   "cell_type": "code",
   "execution_count": null,
   "id": "1f37de46",
   "metadata": {},
   "outputs": [],
   "source": [
    "class Decoder(object):\n",
    "    def __init__(self):\n",
    "        self.act_dim = 16\n",
    "        \n",
    "    def decode_action(self, encoded_action):\n",
    "        vel = 1\n",
    "\n",
    "        psi = (2*math.pi/self.act_dim)* encoded_action\n",
    "\n",
    "        R = np.array([[math.cos(psi), -math.sin(psi)],\n",
    "                     [math.sin(psi), math.cos(psi)]])\n",
    "\n",
    "        direction = np.array([vel, 0])\n",
    "\n",
    "        direction = list(R.dot(direction)) + [0.] \n",
    "        \n",
    "        full_direction = [0. if abs(d) < 1e-10 else d for d in direction] \n",
    "\n",
    "        return full_direction"
   ]
  },
  {
   "cell_type": "code",
   "execution_count": null,
   "id": "045a6960",
   "metadata": {},
   "outputs": [],
   "source": [
    "hey = Decoder()"
   ]
  },
  {
   "cell_type": "code",
   "execution_count": null,
   "id": "b80e26a7",
   "metadata": {},
   "outputs": [],
   "source": [
    "hey.decode_action(0)"
   ]
  },
  {
   "cell_type": "code",
   "execution_count": 32,
   "id": "2b8b5f3a",
   "metadata": {},
   "outputs": [],
   "source": [
    "def psi_to_quat(psi):\n",
    "    return [math.cos(psi/2),0,0,math.sin(psi/2)]\n",
    "\n",
    "def quat_to_psi(qd):\n",
    "    return math.atan2( 2 * (qd.w * qd.z + qd.x * qd.y), 1 - 2 * (qd.y**2 + qd.z**2) )\n",
    "    \n",
    "def get_z_angle_diff(frame1, frame2):\n",
    "    q1 = Quaternion(frame1.getQuaternion())\n",
    "    q = Quaternion(frame2.getQuaternion())\n",
    "\n",
    "    qd = q.conjugate * q1\n",
    "\n",
    "    # Calculate Euler angles from this difference quaternion\n",
    "    # phi   = math.atan2( 2 * (qd.w * qd.x + qd.y * qd.z), 1 - 2 * (qd.x**2 + qd.y**2) )\n",
    "    # theta = math.asin ( 2 * (qd.w * qd.y - qd.z * qd.x) )\n",
    "    psi   = quat_to_psi(qd)\n",
    "    \n",
    "    return psi"
   ]
  },
  {
   "cell_type": "code",
   "execution_count": null,
   "id": "a8a9ebf6",
   "metadata": {},
   "outputs": [],
   "source": []
  },
  {
   "cell_type": "code",
   "execution_count": 33,
   "id": "60435c20",
   "metadata": {},
   "outputs": [],
   "source": [
    "def get_xy_position_diff(frame1,frame2):\n",
    "    res = frame1.getPosition() - frame2.getPosition()\n",
    "    return res[0], res[1]"
   ]
  },
  {
   "cell_type": "code",
   "execution_count": 34,
   "id": "4c2ff459",
   "metadata": {},
   "outputs": [],
   "source": [
    "def rad_to_deg(angle):\n",
    "    return angle/(2*math.pi)*360"
   ]
  },
  {
   "cell_type": "code",
   "execution_count": 35,
   "id": "ae52ca95",
   "metadata": {},
   "outputs": [],
   "source": [
    "def start_direction(frame, code):\n",
    "    qd = Quaternion(frame.getQuaternion())\n",
    "    psi   = math.atan2( 2 * (qd.w * qd.z + qd.x * qd.y), 1 - 2 * (qd.y**2 + qd.z**2) )\n",
    "    \n",
    "    R = np.array([[math.cos(psi), -math.sin(psi)],\n",
    "                     [math.sin(psi), math.cos(psi)]])\n",
    "    vel = 1\n",
    "    dist = .22 \n",
    "    offset = .1\n",
    "    \n",
    "    if code == 0:\n",
    "        rel_start = np.array([-offset, -dist])\n",
    "        direction = np.array([0, vel])\n",
    "    elif code == 1:\n",
    "        rel_start = np.array([0, -dist])\n",
    "        direction = np.array([0, vel])\n",
    "    elif code == 2:  \n",
    "        rel_start = np.array([offset, -dist])\n",
    "        direction = np.array([0, vel])\n",
    "    elif code == 3:     \n",
    "        rel_start = np.array([dist, -offset])\n",
    "        direction = np.array([-vel, 0])\n",
    "    elif code == 4:     \n",
    "        rel_start = np.array([dist, 0])\n",
    "        direction = np.array([-vel, 0])\n",
    "    elif code == 5:     \n",
    "        rel_start = np.array([dist, offset])\n",
    "        direction = np.array([-vel, 0])\n",
    "    elif code == 6:     \n",
    "        rel_start = np.array([offset, dist])\n",
    "        direction = np.array([0, -vel])\n",
    "    elif code == 7:     \n",
    "        rel_start = np.array([0, dist])\n",
    "        direction = np.array([0, -vel])\n",
    "    elif code == 8:     \n",
    "        rel_start = np.array([-offset, dist])\n",
    "        direction = np.array([0, -vel])\n",
    "    elif code == 9:     \n",
    "        rel_start = np.array([-dist, offset])\n",
    "        direction = np.array([vel, 0])\n",
    "    elif code == 10:   \n",
    "        rel_start = np.array([-dist, 0])\n",
    "        direction = np.array([vel, 0])\n",
    "    elif code == 11: \n",
    "        rel_start = np.array([-dist, -offset])\n",
    "        direction = np.array([vel, 0])\n",
    "    \n",
    "    pos = frame.getPosition()[:2] + R.dot(rel_start)\n",
    "    direction = R.dot(direction)\n",
    "    return list(pos) + [frame.getPosition()[2]] ,  list(direction) + [0.]\n",
    "    "
   ]
  },
  {
   "cell_type": "code",
   "execution_count": null,
   "id": "4f214707",
   "metadata": {},
   "outputs": [],
   "source": []
  },
  {
   "cell_type": "code",
   "execution_count": null,
   "id": "9688670f",
   "metadata": {},
   "outputs": [],
   "source": [
    "# C = ry.Config()\n",
    "# C.addFile(\"../scenarios/pushSimWorld.g\")\n",
    "# box_t = C.getFrame(\"box_t\")\n",
    "# box = C.getFrame(\"box\")\n",
    "# # box_t.setPosition(box.getPosition())\n",
    "# ball = C.getFrame(\"ball\")\n",
    "# S = C.simulation(ry.SimulatorEngine.bullet, True)\n",
    "\n",
    "# # Get angle and position diff\n",
    "# za_diff = get_z_angle_diff(box_t, box)\n",
    "# x_diff, y_diff = get_xy_position_diff(box_t, box)\n",
    "\n",
    "#save the state and revert later \n",
    "\n",
    "\n",
    "# tau = 0.01\n",
    "# for t in range(1000):\n",
    "#     time.sleep(tau)\n",
    "#     if t%10 == 0 :\n",
    "#         start, direction = start_direction(box,t%11)\n",
    "#         ball.setPosition(start)\n",
    "#     S.step(direction, 0.01,  ry.ControlMode.velocity)\n",
    "    \n",
    "#Reset the environment"
   ]
  },
  {
   "cell_type": "code",
   "execution_count": null,
   "id": "d0803724",
   "metadata": {},
   "outputs": [],
   "source": [
    "# final_move = [0]*12\n",
    "# final_move[11] = 1.\n",
    "# game_step(final_move, box, box_t, ball)"
   ]
  },
  {
   "cell_type": "code",
   "execution_count": null,
   "id": "b430d170",
   "metadata": {},
   "outputs": [],
   "source": [
    "world_configuration = \"../scenarios/pushSimWorldComplete.g\"\n",
    "C = ry.Config()\n",
    "C.addFile(world_configuration)\n",
    "\n",
    "\n",
    "box = C.getFrame(\"box\")\n",
    "box_start_state = box.getPosition()\n",
    "box_t = C.getFrame(\"box_t\")\n",
    "ball = C.getFrame(\"ball\")\n",
    "x_start, y_start = get_xy_position_diff(box_t, box)\n",
    "r_start = (x_start**2 + y_start**2)**.5 \n",
    "print(r_start)\n",
    "game_over_threshold = 1.\n",
    "reward_threshold = .1\n",
    "score = 0\n",
    "state = 3*[0]"
   ]
  },
  {
   "cell_type": "code",
   "execution_count": null,
   "id": "34e92f46",
   "metadata": {},
   "outputs": [],
   "source": [
    "# box_marker = C.addFrame(\"box_marker\", parent=\"box\" )\n",
    "# box_marker.setShape(ry.ST.ssBox, [0.01, 0.15, 0.1, 0.01])\n",
    "# box_marker.setColor([1,0,0,0.5])\n",
    "# box_marker.setPosition(box.getPosition()+[0.0, -0.07, 0.02])\n",
    "\n",
    "# box_t_marker = C.addFrame(\"box_marker\", parent=\"box_t\" )\n",
    "# box_t_marker.setShape(ry.ST.ssBox, [0.01, 0.15, 0.1, 0.01])\n",
    "# box_t_marker.setColor([1,.5,0,0.5])\n",
    "# box_t_marker.setPosition(box_t.getPosition()+[0.0, -0.07, 0.02])"
   ]
  },
  {
   "cell_type": "code",
   "execution_count": null,
   "id": "88ee2d34",
   "metadata": {},
   "outputs": [],
   "source": [
    "S = C.simulation(ry.SimulatorEngine.bullet, True)"
   ]
  },
  {
   "cell_type": "code",
   "execution_count": null,
   "id": "1516cf0c",
   "metadata": {},
   "outputs": [],
   "source": [
    "box.setQuaternion(psi_to_quat(5))\n",
    "S.setState(C.getFrameState())\n",
    "S.step([], 0,  ry.ControlMode.none)\n",
    "get_z_angle_diff(box_t, box)"
   ]
  },
  {
   "cell_type": "code",
   "execution_count": null,
   "id": "41fde78f",
   "metadata": {},
   "outputs": [],
   "source": [
    "def solve_grasping_ball(komo):\n",
    "\n",
    "    # encode grasping\n",
    "    komo.addObjective([1.], \n",
    "                    ry.FS.positionRel, \n",
    "                    [\"ball\", \"gripperCenter\"], \n",
    "                    ry.OT.eq, \n",
    "                    1e2*np.array([[1,0,0],[0,1,0]]),\n",
    "                    [0.,0.,.0]);\n",
    "\n",
    "    # encode hight tracking\n",
    "    komo.addObjective([0.,.5], \n",
    "                ry.FS.positionDiff, \n",
    "                [\"ball\", \"gripperCenter\"], \n",
    "                ry.OT.eq, \n",
    "                1.2e2*np.array([[0,0,1]]),\n",
    "                [0.,0.,.0]);\n",
    "    \n",
    "    # add the pre-positon (TO BE ABOVE THE BALL and then go to the ball at the end)\n",
    "    komo.addObjective([.8], \n",
    "                ry.FS.positionDiff, \n",
    "                [\"ball\", \"gripperCenter\"], \n",
    "                ry.OT.eq, \n",
    "                1.2e2*np.array([[0,0,1]]),\n",
    "                [0.,0.,.0]);\n",
    "    \n",
    "    \n",
    "    komo.addObjective([0.,1.], \n",
    "                    ry.FS.quaternionRel, \n",
    "                    [\"ball\", \"gripperCenter\"], \n",
    "                    ry.OT.eq, \n",
    "                    [1e2],\n",
    "                    [.579,.406,-.406,.579]);\n",
    "\n",
    "    komo.addObjective([1.], ry.FS.qItself, [], ry.OT.eq, [1e2], order=1)\n",
    "\n",
    "    komo.optimize()\n",
    "    \n",
    "    return\n"
   ]
  },
  {
   "cell_type": "code",
   "execution_count": null,
   "id": "2f329658",
   "metadata": {},
   "outputs": [],
   "source": [
    "obj = C.addFrame(\"object\")"
   ]
  },
  {
   "cell_type": "code",
   "execution_count": null,
   "id": "61bfd403",
   "metadata": {},
   "outputs": [],
   "source": [
    "tau = .01\n",
    "waypoints = 10\n",
    "horizon_seconds = .5\n",
    "\n",
    "def executeSpline(path, t):\n",
    "    S.setMoveto(path, t)\n",
    "    while S.getTimeToMove() > 0.:\n",
    "        time.sleep(tau)\n",
    "        S.step([], tau, ry.ControlMode.spline)\n",
    "        C.setJointState(S.get_q())\n",
    "        \n",
    "\n",
    "komo = C.komo_path(1., waypoints, horizon_seconds, False)\n",
    "\n",
    "solve_grasping_ball(komo)\n",
    "komo.getReport()\n",
    "komo.view(True, \"motion\")\n",
    "komo.view_play(True, 0.3)\n",
    "\n",
    "# send the motion with spline\n",
    "\n",
    "executeSpline(komo.getPath_qOrg(), 1)\n",
    "\n",
    "# S.setMoveto(komo.getPath_qOrg()[-10:], .1)"
   ]
  },
  {
   "cell_type": "code",
   "execution_count": null,
   "id": "0e910917",
   "metadata": {},
   "outputs": [],
   "source": [
    " for t in range(6):\n",
    "            time.sleep(self.tau)\n",
    "            self.S.step(direction, self.tau,  ry.ControlMode.velocity)\n",
    "        "
   ]
  },
  {
   "cell_type": "code",
   "execution_count": null,
   "id": "b4c8c418",
   "metadata": {},
   "outputs": [],
   "source": [
    "class Game:\n",
    "\n",
    "    def __init__(self, world_configuration = \"../scenarios/pushSimWorld.g\"):\n",
    "        self.C = ry.Config()\n",
    "        self.C.addFile(world_configuration)\n",
    "        self.S = self.C.simulation(ry.SimulatorEngine.bullet, True)\n",
    "        \n",
    "        self.tau = 0.0001\n",
    "        self.box = self.C.getFrame(\"box\")\n",
    "        self.box_t = self.C.getFrame(\"box_t\")\n",
    "        self.ball = self.C.getFrame(\"ball\")\n",
    "        self.r_max = 2.\n",
    "        self.disc_r = .3\n",
    "        self.disc_angle = .5 # TODO: define meaningful angle\n",
    "        self.state = 3*[0]\n",
    "        self.start_r = 0\n",
    "        self.start_angle = 0\n",
    "        self.score = 0\n",
    "        \n",
    "        # random initialization \n",
    "        self.reset()\n",
    "        \n",
    "    def calculate_state(self):\n",
    "        x_diff, y_diff = get_xy_position_diff(self.box_t, self.box)\n",
    "        z_angle_diff = get_z_angle_diff(self.box_t, self.box)\n",
    "        \n",
    "        self.state = [x_diff, y_diff, z_angle_diff]\n",
    "\n",
    "        \n",
    "    def step(self, final_move):\n",
    "        reward = 0\n",
    "        game_over = False\n",
    "\n",
    "        start, direction = start_direction(self.box,np.nonzero(final_move)[0][0])\n",
    "        self.ball.setPosition(start)\n",
    "        self.S.setState(self.C.getFrameState())\n",
    "        \n",
    "        # Updating the environment\n",
    "        self.S.step([], 0,  ry.ControlMode.none)\n",
    "\n",
    "        for t in range(6):\n",
    "            time.sleep(self.tau)\n",
    "            self.S.step(direction, self.tau,  ry.ControlMode.velocity)\n",
    "        \n",
    "        \n",
    "        self.calculate_state();\n",
    "        \n",
    "        r = (self.state[0]**2 + self.state[1]**2)**.5\n",
    "        \n",
    "        dr = int(r / self.disc_r)\n",
    "        dangle = int(self.state[2] / self.disc_angle)\n",
    "        \n",
    "        \n",
    "        if r >= self.r_max: \n",
    "            reward = -3.\n",
    "            game_over = True        \n",
    "            \n",
    "        elif dr < self.prev_dr:\n",
    "            #TODO: dangle adding strategy\n",
    "            reward = (self.prev_dr - dr)\n",
    "            self.prev_dr = dr\n",
    "            \n",
    "        elif r < 0.01:\n",
    "            game_over = True\n",
    "            reward = 10 - abs(dangle)\n",
    "            \n",
    "         \n",
    "        # penalize angle difference increase \n",
    "        if abs(self.prev_dangle)<abs(dangle):\n",
    "            reward -= -1\n",
    "            self.prev_dangle = dangle\n",
    "            \n",
    "        self.score += reward\n",
    "        return reward, game_over, self.score\n",
    "        \n",
    "    def get_state(self):\n",
    "        return self.state\n",
    "    \n",
    "    def reset(self):\n",
    "        #define the new state of the box to be somewhere around the target:\n",
    "        new_state = np.array(self.box_t.getPosition())+np.array([1.5*np.random.rand(),1.5*np.random.rand(),0])\n",
    "        \n",
    "        self.box.setQuaternion(psi_to_quat(2*math.pi*np.random.rand()))\n",
    "        self.box.setPosition(new_state)\n",
    "        self.S.setState(self.C.getFrameState())\n",
    "        \n",
    "        self.calculate_state();\n",
    "        \n",
    "        r = (self.state[0]**2 + self.state[1]**2)**.5\n",
    "        \n",
    "        self.prev_dr = int(r / self.disc_r)\n",
    "        self.prev_dangle = int(self.state[2] / self.disc_angle)\n",
    "        \n",
    "        self.score = 0\n",
    "        \n",
    "        # Updating the environment\n",
    "        self.S.step([], 0,  ry.ControlMode.none)\n",
    "        \n",
    "#         for t in range(2):\n",
    "#             time.sleep(self.tau)\n",
    "#             self.S.step([], self.tau,  ry.ControlMode.none)            \n",
    "\n",
    "        return \n",
    "        \n",
    "    "
   ]
  },
  {
   "cell_type": "code",
   "execution_count": null,
   "id": "911924cd",
   "metadata": {},
   "outputs": [],
   "source": [
    "np.random.rand()"
   ]
  },
  {
   "cell_type": "code",
   "execution_count": null,
   "id": "7a191582",
   "metadata": {},
   "outputs": [],
   "source": [
    "# box.setQuaternion([.966, 0., 0., 0.259])\n",
    "# qd = Quaternion(box.getQuaternion())\n",
    "# psi   = math.atan2( 2 * (qd.w * qd.z + qd.x * qd.y), 1 - 2 * (qd.y**2 + qd.z**2) )\n",
    "# psi"
   ]
  },
  {
   "cell_type": "code",
   "execution_count": null,
   "id": "dfc42861",
   "metadata": {},
   "outputs": [],
   "source": [
    "from lib.agent import Agent\n",
    "from lib.helper import plot"
   ]
  },
  {
   "cell_type": "code",
   "execution_count": null,
   "id": "ace5fb9b",
   "metadata": {},
   "outputs": [],
   "source": [
    "class LinearSchedule(object):\n",
    "    def __init__(self, schedule_timesteps, final_p, initial_p):\n",
    "        self.schedule_timesteps = schedule_timesteps\n",
    "        self.final_p = final_p\n",
    "        self.initial_p = initial_p\n",
    "\n",
    "    def value(self, t):\n",
    "        fraction = min(1.0, float(t) / self.schedule_timesteps)\n",
    "        return self.initial_p + (self.final_p - self.initial_p) * fraction"
   ]
  },
  {
   "cell_type": "code",
   "execution_count": null,
   "id": "27d7249b",
   "metadata": {},
   "outputs": [],
   "source": [
    "%matplotlib qt\n",
    "\n",
    "from collections import deque\n",
    "import lib.logger\n",
    "import torch\n",
    "\n",
    "class Worker:\n",
    "    def __init__(self, \n",
    "                    # epsilon params\n",
    "                    fraction_eps = 0.1, \n",
    "                    initial_eps = 0.05, \n",
    "                    final_eps = 0.1, \n",
    "\n",
    "                    # learning \n",
    "                    max_steps = 10_000_000, \n",
    "                    gamma = 0.97, \n",
    "                    learning_rate = 1e-3, \n",
    "                    learning_start_itr = 0, \n",
    "                    train_q_freq = 50,\n",
    "\n",
    "                    # memory \n",
    "                    memory_len = 100_000,\n",
    "                    batch_size = 1000,\n",
    "\n",
    "                    #network\n",
    "                    layers_sizes = [3, 256, 12],\n",
    "\n",
    "                    #logging\n",
    "                    log_freq = 1000,\n",
    "                    log_dir = \"data/local/game\",\n",
    "                ):\n",
    "\n",
    "        lib.logger.session(log_dir).__enter__()\n",
    "        self.log_freq = log_freq\n",
    "        self.train_q_freq = train_q_freq\n",
    "        self.layers_sizes = layers_sizes\n",
    "        self.act_dim = self.layers_sizes[-1]\n",
    "        self.max_steps = max_steps\n",
    "\n",
    "        # Learning Agent \n",
    "        self.agent = Agent(\n",
    "            gamma = gamma, \n",
    "            learning_rate = learning_rate, \n",
    "            memory_len = memory_len, \n",
    "            layers_sizes = self.layers_sizes,\n",
    "            batch_size = batch_size\n",
    "            )\n",
    "\n",
    "        # Environment\n",
    "        self.game = Game()\n",
    "\n",
    "        # Tactics for exploraion/exploitation\n",
    "        self.exploration = LinearSchedule(\n",
    "            schedule_timesteps=int(fraction_eps * max_steps),\n",
    "            initial_p=initial_eps,\n",
    "            final_p=final_eps)\n",
    "\n",
    "\n",
    "    def eps_greedy(self, state, epsilon):\n",
    "        act = [0]*self.act_dim\n",
    "\n",
    "        # Check Q function, do argmax.\n",
    "        rnd = np.random.rand()\n",
    "        if rnd > epsilon:\n",
    "            state0 = torch.tensor(state, dtype=torch.float)\n",
    "            prediction = self.agent.model(state0)\n",
    "            move = torch.argmax(prediction).item()\n",
    "            act[move] = 1\n",
    "        else:\n",
    "            act[np.random.randint(0, self.act_dim)] = 1\n",
    "        \n",
    "        return act\n",
    "\n",
    "    def train(self):\n",
    "        plot_scores = []\n",
    "        plot_mean_scores = []\n",
    "        episode_rewards = []\n",
    "        total_score = 0\n",
    "        record = 0     \n",
    "        log_itr = 0\n",
    "\n",
    "        l_episode_return = deque([], maxlen=10)\n",
    "        l_tq_squared_error = deque(maxlen=50)   \n",
    "        \n",
    "        for itr in range(self.max_steps):\n",
    "            # get old state\n",
    "            state_old = self.game.get_state()\n",
    "\n",
    "            # get move\n",
    "            act = self.eps_greedy(state_old, self.exploration.value(itr))\n",
    "\n",
    "            # perform move and get new state\n",
    "            reward, done, score = self.game.step(act)\n",
    "            state_new = self.game.get_state()\n",
    "\n",
    "            episode_rewards.append(reward)\n",
    "\n",
    "            # train short memory\n",
    "            self.agent.train_short_memory(state_old, act, reward, state_new, done)\n",
    "\n",
    "            # remember\n",
    "            self.agent.remember(state_old, act, reward, state_new, done)\n",
    "\n",
    "            if done:\n",
    "                # train long memory, plot result\n",
    "    #             print(\"done routine\")\n",
    "                self.game.reset()\n",
    "                episode_return = np.sum(episode_rewards)\n",
    "\n",
    "                if score > record:\n",
    "                    record = score\n",
    "                    self.agent.model.save()\n",
    "\n",
    "                l_episode_return.append(episode_return)\n",
    "\n",
    "                td_squared_error = self.agent.train_long_memory().data\n",
    "\n",
    "                l_tq_squared_error.append(td_squared_error)\n",
    "\n",
    "                # print('Game', itr, 'Score', score, 'Record:', record)\n",
    "\n",
    "                # plot_scores.append(score)\n",
    "                # total_score += score\n",
    "                # mean_score = total_score / itr\n",
    "                # plot_mean_scores.append(mean_score)\n",
    "                # plot(plot_scores, plot_mean_scores)\n",
    "\n",
    "            # if itr % self.train_q_freq == 0 and itr > self.learning_start_itr:\n",
    "            #     td_squared_error = self.agent.train_long_memory()\n",
    "            #     l_tq_squared_error.append(td_squared_error)\n",
    "\n",
    "            if (itr + 1) % self.log_freq == 0 and len(l_episode_return) > 5:\n",
    "                log_itr += 1\n",
    "                lib.logger.logkv('Iteration', log_itr)\n",
    "                lib.logger.logkv('Steps', itr)\n",
    "                lib.logger.logkv('Epsilon', self.exploration.value(itr))\n",
    "                lib.logger.logkv('Episodes', len(l_episode_return))\n",
    "                lib.logger.logkv('AverageReturn', np.mean(l_episode_return))\n",
    "                lib.logger.logkv('TDError^2', np.mean(l_tq_squared_error))\n",
    "                lib.logger.dumpkvs()"
   ]
  },
  {
   "cell_type": "code",
   "execution_count": null,
   "id": "5a79d709",
   "metadata": {},
   "outputs": [],
   "source": [
    "setup = Worker()\n",
    "setup.train()"
   ]
  },
  {
   "cell_type": "code",
   "execution_count": null,
   "id": "88bceafc",
   "metadata": {},
   "outputs": [],
   "source": []
  }
 ],
 "metadata": {
  "interpreter": {
   "hash": "916dbcbb3f70747c44a77c7bcd40155683ae19c65e1c03b4aa3499c5328201f1"
  },
  "kernelspec": {
   "display_name": "Python 3.8.10 64-bit",
   "name": "python3"
  },
  "language_info": {
   "codemirror_mode": {
    "name": "ipython",
    "version": 3
   },
   "file_extension": ".py",
   "mimetype": "text/x-python",
   "name": "python",
   "nbconvert_exporter": "python",
   "pygments_lexer": "ipython3",
   "version": "3.8.10"
  }
 },
 "nbformat": 4,
 "nbformat_minor": 5
}
