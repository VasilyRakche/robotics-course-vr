{
 "cells": [
  {
   "cell_type": "markdown",
   "metadata": {},
   "source": [
    "# Tutorial 1\n",
    "\n",
    "other doc sources:\n",
    "https://github.com/MarcToussaint/rai-maintenance/tree/master/help"
   ]
  },
  {
   "cell_type": "code",
   "execution_count": 1,
   "metadata": {},
   "outputs": [
    {
     "name": "stdout",
     "output_type": "stream",
     "text": [
      "**ry-c++-log** ry.cpp:init_LogToPythonConsole:34(0) initializing ry log callback\n",
      "\n",
      "**ry-c++-log** util.cpp:initCmdLine:545(1) ** cmd line arguments: 'rai-pybind -python '\n",
      "\n",
      "**ry-c++-log** util.cpp:initCmdLine:549(1) ** run path: '/home/vasko/Documents/TUB3/AI_Robotics/robotics-course/tutorials'\n",
      "\n",
      "**ry-c++-log** graph.cpp:initParameters:1379(1) ** parsed parameters:\n",
      "{python}\n",
      "\n",
      "\n"
     ]
    }
   ],
   "source": [
    "import sys\n",
    "sys.path.append('../build')\n",
    "import numpy as np\n",
    "import libry as ry"
   ]
  },
  {
   "cell_type": "markdown",
   "metadata": {},
   "source": [
    "## Setting up a basic Config\n",
    "\n",
    "The starting point is to create a `Configuration`."
   ]
  },
  {
   "cell_type": "code",
   "execution_count": 2,
   "metadata": {},
   "outputs": [],
   "source": [
    "C = ry.Config()\n",
    "D = C.view()"
   ]
  },
  {
   "cell_type": "markdown",
   "metadata": {},
   "source": [
    "This shows an empty configuration. Tip: Make the view window appear \"Always On Top\" (right click on the window bar)\n",
    "\n",
    "You can add things (objects, scene models, robots) to a configuration."
   ]
  },
  {
   "cell_type": "code",
   "execution_count": 3,
   "metadata": {},
   "outputs": [],
   "source": [
    "C.clear()\n",
    "C.addFile('../rai-robotModels/pr2/pr2.g')\n",
    "C.addFile('../rai-robotModels/objects/kitchen.g')"
   ]
  },
  {
   "cell_type": "markdown",
   "metadata": {},
   "source": [
    "Note that the view was updated automatically. (Internally, the view 'subscribes' to updates of the shared memory of Config)."
   ]
  },
  {
   "cell_type": "code",
   "execution_count": 4,
   "metadata": {},
   "outputs": [],
   "source": [
    "ball = C.addFrame(name=\"ball\")\n",
    "ball.setShape(ry.ST.sphere, [.1])\n",
    "ball.setPosition([.8,.8,1.5])\n",
    "ball.setColor([1,1,0])"
   ]
  },
  {
   "cell_type": "markdown",
   "metadata": {},
   "source": [
    "One can also add convex meshes (just passing the vertex array), or use sphere-swept convex meshes (ssBox, capsule, sphere, etc)"
   ]
  },
  {
   "cell_type": "code",
   "execution_count": 5,
   "metadata": {},
   "outputs": [],
   "source": [
    "hand = C.addFrame(name=\"hand\", parent=\"pr2L\")\n",
    "hand.setShape(ry.ST.ssBox, size=[.2,.2,.1,.02]),\n",
    "hand.setRelativePosition([0,0,-.1])\n",
    "hand.setColor([1,1,0])"
   ]
  },
  {
   "cell_type": "markdown",
   "metadata": {},
   "source": [
    "In this last example, the new object has another frame (pr2L) as *parent*. This means that it is permanently attached to this parent. pos and quat/rot are interpreted relative to the parent."
   ]
  },
  {
   "cell_type": "markdown",
   "metadata": {},
   "source": [
    "## Joint and Frame State\n",
    "\n",
    "A configuration is a tree of n frames. Every frame has a pose (position & quaternion), which is represented as a 7D vector (x,y,z, qw,qx,qy,qz). The frame state is the $n\\times 7$ matrix, where the i-th row is the pose of the i-th frame.\n",
    "\n",
    "A configuration also defines joints, which means that the relative transfromation from a parent to a child frame is parameterized by degrees-of-freedoms (DOFs). If the configuration has in total n DOFs, the joint state is a n-dimensional vector.\n",
    "\n",
    "Setting the joint state implies computing all relative transformations, and then forward chaining all transformations to compute all frame poses. So setting the joint state also sets the frame state.\n",
    "     \n",
    "Setting the frame state allows you to set frame poses that are inconsistent/impossible w.r.t. the joints! Setting the frame state implies computing all relative transformations from the frame poses, and then assigning the joint state to the *projection* onto the actual DOFs"
   ]
  },
  {
   "cell_type": "code",
   "execution_count": 31,
   "metadata": {},
   "outputs": [
    {
     "name": "stdout",
     "output_type": "stream",
     "text": [
      "joint names:  ['worldTranslationRotation:0', 'worldTranslationRotation:1', 'worldTranslationRotation:2', 'l_shoulder_pan_joint', 'l_shoulder_lift_joint', 'l_upper_arm_roll_joint', 'l_elbow_flex_joint', 'l_forearm_roll_joint', 'l_wrist_flex_joint', 'l_wrist_roll_joint']\n",
      "joint state:  [ 2.          1.          2.28762102  1.00001     0.50001     1.00001\n",
      " -2.00001     1.50001    -0.50001     0.50001   ]\n"
     ]
    }
   ],
   "source": [
    "q = C.getJointState()\n",
    "print('joint names: ', C.getJointNames() )\n",
    "print('joint state: ', q)"
   ]
  },
  {
   "cell_type": "code",
   "execution_count": 24,
   "metadata": {},
   "outputs": [
    {
     "data": {
      "text/plain": [
       "8.570796326794897"
      ]
     },
     "execution_count": 24,
     "metadata": {},
     "output_type": "execute_result"
    }
   ],
   "source": [
    "q[2]"
   ]
  },
  {
   "cell_type": "markdown",
   "metadata": {},
   "source": [
    "Let's move the configuration by adding to the joint configuration"
   ]
  },
  {
   "cell_type": "code",
   "execution_count": 25,
   "metadata": {},
   "outputs": [],
   "source": [
    "q[0] = q[0] + 1.\n",
    "C.setJointState(q)"
   ]
  },
  {
   "cell_type": "markdown",
   "metadata": {},
   "source": [
    "The *frame state* is a $n\\times 7$ matrix, which contains for all of $n$ frames the 7D pose. A pose is stored as [p_x, p_y, p_z, q_w, q_x, q_y, q_z], with position p and quaternion q."
   ]
  },
  {
   "cell_type": "code",
   "execution_count": 26,
   "metadata": {},
   "outputs": [
    {
     "name": "stdout",
     "output_type": "stream",
     "text": [
      "frame state:  [[ 0.          0.          0.         ...  0.          0.\n",
      "   0.        ]\n",
      " [ 2.          1.          0.         ...  0.          0.\n",
      "  -0.91021607]\n",
      " [ 2.03284933  0.96230489  0.890675   ... -0.64361996  0.29283673\n",
      "  -0.64361996]\n",
      " ...\n",
      " [ 0.5         2.          0.4        ...  0.          0.\n",
      "   0.        ]\n",
      " [ 0.8         0.8         1.5        ...  0.          0.\n",
      "   0.        ]\n",
      " [ 1.51353223  1.32435024  0.96711955 ...  0.0029326   0.77729817\n",
      "  -0.61627576]]\n"
     ]
    }
   ],
   "source": [
    "X0 = C.getFrameState()\n",
    "print('frame state: ', X0)"
   ]
  },
  {
   "cell_type": "markdown",
   "metadata": {},
   "source": [
    "Let's do a questionable thing: adding .1 to all numbers in the frame matrix!"
   ]
  },
  {
   "cell_type": "code",
   "execution_count": 27,
   "metadata": {},
   "outputs": [],
   "source": [
    "X = X0 + .1\n",
    "C.setFrameState(X)"
   ]
  },
  {
   "cell_type": "markdown",
   "metadata": {},
   "source": [
    "The rows of X have non-normalized quaternions! These are normalized when setting the frame state.\n",
    "\n",
    "Also, the frame poses are now *inconsistent* to the joint constraints! We can read out the projected joint state, set the joint state, and get a consistent state again:"
   ]
  },
  {
   "cell_type": "code",
   "execution_count": 28,
   "metadata": {},
   "outputs": [],
   "source": [
    "C.setJointState( C.getJointState() )"
   ]
  },
  {
   "cell_type": "markdown",
   "metadata": {},
   "source": [
    "Let's bring the configuration back into the state before the harsh *setFrame*"
   ]
  },
  {
   "cell_type": "code",
   "execution_count": 29,
   "metadata": {},
   "outputs": [],
   "source": [
    "C.setFrameState(X0)"
   ]
  },
  {
   "cell_type": "markdown",
   "metadata": {},
   "source": [
    " ## Selecting joints\n",
    "\n",
    "Often one would like to choose which joints are actually active, that is, which joints are referred to in q. This allows one to sub-select joints and work only with projections of the full configuration state. This changes the joint state dimensionality, including ordering of entries in q.\n",
    "\n",
    "The frame state is not affected by such a selection of active joints."
   ]
  },
  {
   "cell_type": "code",
   "execution_count": 33,
   "metadata": {},
   "outputs": [
    {
     "name": "stdout",
     "output_type": "stream",
     "text": [
      "joint state:  [ 2.          1.          2.28762102  1.00001     0.50001     1.00001\n",
      " -2.00001     1.50001    -0.50001     0.50001   ]\n",
      "joint names:  ['worldTranslationRotation:0', 'worldTranslationRotation:1', 'worldTranslationRotation:2', 'l_shoulder_pan_joint', 'l_shoulder_lift_joint', 'l_upper_arm_roll_joint', 'l_elbow_flex_joint', 'l_forearm_roll_joint', 'l_wrist_flex_joint', 'l_wrist_roll_joint']\n"
     ]
    }
   ],
   "source": [
    "C.selectJointsByTag([\"armL\",\"base\"])\n",
    "# C.selectJointsByTag([])\n",
    "q = C.getJointState()\n",
    "print('joint state: ', q)\n",
    "print('joint names: ', C.getJointNames() )"
   ]
  },
  {
   "cell_type": "markdown",
   "metadata": {},
   "source": [
    "## Features & Jacobians\n",
    "\n",
    "A core part of rai defines features over configurations. A feature is a differentiable mapping from a configuration (or set of configurations) to a vector. Starndard features are \"position-of-endeffector-X\" or \"distance/penetration-between-convex-shapes-A-and-B\", etc. But there are many, many more features defined in rai, like error of Newton-Euler-equations for an object, total energy of the system, etc. Defining differentiable features is the core of many functionalities in the rai code.\n",
    "\n",
    "Let's define a basic feature over C: the 3D (world coordinate) position of pr2L (left hand)"
   ]
  },
  {
   "cell_type": "code",
   "execution_count": 34,
   "metadata": {},
   "outputs": [],
   "source": [
    "F = C.feature(ry.FS.position, [\"pr2L\"])"
   ]
  },
  {
   "cell_type": "markdown",
   "metadata": {},
   "source": [
    "We can now evaluate the feature, and also get the Jacobian:"
   ]
  },
  {
   "cell_type": "code",
   "execution_count": 35,
   "metadata": {},
   "outputs": [
    {
     "name": "stdout",
     "output_type": "stream",
     "text": [
      "F_Position/0-pr2L\n",
      "hand position = [1.49350457 1.22861844 0.94627935]\n",
      "Jacobian = [[ 1.          0.         -0.37386935 -0.3106267  -0.15575831 -0.13479104\n",
      "  -0.5072611  -0.16950556  0.06671492 -0.01884874]\n",
      " [ 0.          1.         -0.67330771 -0.3582334  -0.08144115 -0.0421164\n",
      "   0.00352249 -0.02194985 -0.05672006  0.01443724]\n",
      " [ 0.          0.         -0.03744408  0.29027279 -0.24437351 -0.41773446\n",
      "   0.09321806  0.07372961  0.19643616 -0.04820521]]\n"
     ]
    }
   ],
   "source": [
    "print(F.description(C))\n",
    "\n",
    "[y,J] = F.eval(C)\n",
    "print('hand position =', y)\n",
    "print('Jacobian =', J)"
   ]
  },
  {
   "cell_type": "markdown",
   "metadata": {},
   "source": [
    "Another example"
   ]
  },
  {
   "cell_type": "code",
   "execution_count": 36,
   "metadata": {},
   "outputs": [
    {
     "name": "stdout",
     "output_type": "stream",
     "text": [
      "F_PairCollision/0-hand-ball\n"
     ]
    }
   ],
   "source": [
    "F2 = C.feature(ry.FS.distance, [\"hand\", \"ball\"])\n",
    "print(F2.description(C))"
   ]
  },
  {
   "cell_type": "code",
   "execution_count": 37,
   "metadata": {},
   "outputs": [
    {
     "data": {
      "text/plain": [
       "(array([-0.8028018]),\n",
       " array([[-0.69591852, -0.53016574,  0.69076829,  0.63622891,  0.10739423,\n",
       "         -0.13890609,  0.49209686,  0.20338689,  0.1411892 , -0.04720631]]))"
      ]
     },
     "execution_count": 37,
     "metadata": {},
     "output_type": "execute_result"
    }
   ],
   "source": [
    "F2.eval(C)"
   ]
  },
  {
   "cell_type": "markdown",
   "metadata": {},
   "source": [
    "## Camera views (needs more testing)"
   ]
  },
  {
   "cell_type": "markdown",
   "metadata": {},
   "source": [
    "We can also add a frame, attached to the head, which has no shape associated to it, but create a view is associated with that frame:"
   ]
  },
  {
   "cell_type": "code",
   "execution_count": 38,
   "metadata": {},
   "outputs": [],
   "source": [
    "C.addFrame(name='camera', parent='head_tilt_link', args='Q:<d(-90 1 0 0) d(180 0 0 1)> focalLength:.3')\n",
    "V = C.cameraView()\n",
    "IV = V.imageViewer()\n",
    "V.addSensor(name='camera', frameAttached='camera', width=600, height=400)"
   ]
  },
  {
   "cell_type": "code",
   "execution_count": 39,
   "metadata": {},
   "outputs": [],
   "source": [
    "[image,depth] = V.computeImageAndDepth()"
   ]
  },
  {
   "cell_type": "markdown",
   "metadata": {},
   "source": [
    "When we move the robot, that view moves with it:"
   ]
  },
  {
   "cell_type": "code",
   "execution_count": 40,
   "metadata": {},
   "outputs": [
    {
     "data": {
      "text/plain": [
       "(array([[[129, 140, 151],\n",
       "         [129, 140, 151],\n",
       "         [129, 140, 151],\n",
       "         ...,\n",
       "         [255, 255, 255],\n",
       "         [255, 255, 255],\n",
       "         [255, 255, 255]],\n",
       " \n",
       "        [[129, 140, 151],\n",
       "         [129, 140, 151],\n",
       "         [129, 140, 151],\n",
       "         ...,\n",
       "         [255, 255, 255],\n",
       "         [255, 255, 255],\n",
       "         [255, 255, 255]],\n",
       " \n",
       "        [[129, 140, 151],\n",
       "         [129, 140, 151],\n",
       "         [129, 140, 151],\n",
       "         ...,\n",
       "         [129, 140, 151],\n",
       "         [ 73,  73,  73],\n",
       "         [ 73,  73,  73]],\n",
       " \n",
       "        ...,\n",
       " \n",
       "        [[120, 120, 120],\n",
       "         [120, 120, 120],\n",
       "         [121, 121, 121],\n",
       "         ...,\n",
       "         [218, 218,   5],\n",
       "         [218, 218,   5],\n",
       "         [218, 218,   5]],\n",
       " \n",
       "        [[121, 121, 121],\n",
       "         [126, 126, 126],\n",
       "         [126, 126, 126],\n",
       "         ...,\n",
       "         [218, 218,   5],\n",
       "         [218, 218,   5],\n",
       "         [218, 218,   5]],\n",
       " \n",
       "        [[126, 126, 126],\n",
       "         [126, 126, 126],\n",
       "         [126, 126, 126],\n",
       "         ...,\n",
       "         [218, 218,   5],\n",
       "         [218, 218,   5],\n",
       "         [218, 218,   5]]], dtype=uint8),\n",
       " array([[ 6.3882008 ,  6.3882008 ,  6.3882008 , ..., -1.        ,\n",
       "         -1.        , -1.        ],\n",
       "        [ 6.357702  ,  6.357702  ,  6.357702  , ..., -1.        ,\n",
       "         -1.        , -1.        ],\n",
       "        [ 6.3274927 ,  6.3274927 ,  6.3274927 , ...,  6.3274927 ,\n",
       "          6.322724  ,  6.314396  ],\n",
       "        ...,\n",
       "        [ 0.63500625,  0.62024724,  0.61370116, ...,  0.54567116,\n",
       "          0.54585135,  0.5460316 ],\n",
       "        [ 0.6174626 ,  0.61190957,  0.6099288 , ...,  0.5461463 ,\n",
       "          0.54632676,  0.54650825],\n",
       "        [ 0.6110805 ,  0.60910624,  0.6071446 , ...,  0.5466222 ,\n",
       "          0.5468039 ,  0.54698485]], dtype=float32))"
      ]
     },
     "execution_count": 40,
     "metadata": {},
     "output_type": "execute_result"
    }
   ],
   "source": [
    "C.setJointState(q=np.asarray([0.5]), joints=['head_pan_joint'])\n",
    "V.updateConfig(C)\n",
    "V.computeImageAndDepth()"
   ]
  },
  {
   "cell_type": "markdown",
   "metadata": {},
   "source": [
    "To close a view (or destroy a handle to a computational module), we reassign it to zero. We can also remove a frame from the configuration."
   ]
  },
  {
   "cell_type": "code",
   "execution_count": 41,
   "metadata": {},
   "outputs": [],
   "source": [
    "IV = 0\n",
    "V = 0\n",
    "C.delFrame('camera')"
   ]
  },
  {
   "cell_type": "code",
   "execution_count": null,
   "metadata": {},
   "outputs": [],
   "source": []
  },
  {
   "cell_type": "code",
   "execution_count": null,
   "metadata": {},
   "outputs": [],
   "source": []
  }
 ],
 "metadata": {
  "kernelspec": {
   "display_name": "Python 3",
   "language": "python",
   "name": "python3"
  },
  "language_info": {
   "codemirror_mode": {
    "name": "ipython",
    "version": 3
   },
   "file_extension": ".py",
   "mimetype": "text/x-python",
   "name": "python",
   "nbconvert_exporter": "python",
   "pygments_lexer": "ipython3",
   "version": "3.8.10"
  }
 },
 "nbformat": 4,
 "nbformat_minor": 4
}
